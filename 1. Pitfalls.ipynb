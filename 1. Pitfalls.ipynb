{
 "cells": [
  {
   "cell_type": "markdown",
   "metadata": {},
   "source": [
    "<div style=\"width: 100%; overflow: hidden;\">\n",
    "    <div style=\"width: 150px; float: left;\"> <img src=\"data/D4Sci_logo_ball.png\" alt=\"Data For Science, Inc\" align=\"left\" border=\"0\"> </div>\n",
    "    <div style=\"float: left; margin-left: 10px;\"> <h1>Transforming Excel Analysis into pandas Data Models</h1>\n",
    "<h1>Excel Pitfalls</h1>\n",
    "        <p>Bruno Gonçalves<br/>\n",
    "        <a href=\"http://www.data4sci.com/\">www.data4sci.com</a><br/>\n",
    "            @bgoncalves, @data4sci</p></div>\n",
    "</div>"
   ]
  },
  {
   "cell_type": "code",
   "execution_count": 1,
   "metadata": {},
   "outputs": [],
   "source": [
    "from collections import Counter\n",
    "from pprint import pprint\n",
    "\n",
    "import pandas as pd\n",
    "import numpy as np\n",
    "import numpy_financial as npf\n",
    "\n",
    "import matplotlib\n",
    "import matplotlib.pyplot as plt \n",
    "\n",
    "import watermark\n",
    "\n",
    "%load_ext watermark\n",
    "%matplotlib inline"
   ]
  },
  {
   "cell_type": "markdown",
   "metadata": {},
   "source": [
    "We start by print out the versions of the libraries we're using for future reference"
   ]
  },
  {
   "cell_type": "code",
   "execution_count": 2,
   "metadata": {},
   "outputs": [
    {
     "name": "stdout",
     "output_type": "stream",
     "text": [
      "autopep8        1.5\n",
      "watermark       2.0.2\n",
      "numpy_financial 1.0.0\n",
      "numpy           1.18.1\n",
      "pandas          1.0.1\n",
      "matplotlib      3.1.3\n",
      "json            2.0.9\n",
      "Wed Sep 02 2020 \n",
      "\n",
      "CPython 3.7.3\n",
      "IPython 6.2.1\n",
      "\n",
      "compiler   : Clang 4.0.1 (tags/RELEASE_401/final)\n",
      "system     : Darwin\n",
      "release    : 19.6.0\n",
      "machine    : x86_64\n",
      "processor  : i386\n",
      "CPU cores  : 8\n",
      "interpreter: 64bit\n",
      "Git hash   : 00fa09128f296bb2b7d4858d993e4db3654af99c\n"
     ]
    }
   ],
   "source": [
    "%watermark -n -v -m -g -iv"
   ]
  },
  {
   "cell_type": "markdown",
   "metadata": {},
   "source": [
    "Load default figure style"
   ]
  },
  {
   "cell_type": "code",
   "execution_count": 3,
   "metadata": {},
   "outputs": [],
   "source": [
    "plt.style.use('./d4sci.mplstyle')"
   ]
  },
  {
   "cell_type": "markdown",
   "metadata": {},
   "source": [
    "## Large file"
   ]
  },
  {
   "cell_type": "markdown",
   "metadata": {},
   "source": [
    "Data Frames are limited only by available memory, and have no fixed limit on the number of rows or columns"
   ]
  },
  {
   "cell_type": "code",
   "execution_count": 4,
   "metadata": {},
   "outputs": [],
   "source": [
    "taxis = pd.read_csv('data/green_tripdata_2014-04.csv.gz', \n",
    "        parse_dates=['lpep_pickup_datetime', 'Lpep_dropoff_datetime']\n",
    "                   )"
   ]
  },
  {
   "cell_type": "markdown",
   "metadata": {},
   "source": [
    "Even relatively small files can have a large number of rows"
   ]
  },
  {
   "cell_type": "code",
   "execution_count": 5,
   "metadata": {},
   "outputs": [
    {
     "data": {
      "text/plain": [
       "(1309155, 22)"
      ]
     },
     "execution_count": 5,
     "metadata": {},
     "output_type": "execute_result"
    }
   ],
   "source": [
    "taxis.shape"
   ]
  },
  {
   "cell_type": "markdown",
   "metadata": {},
   "source": [
    "And we can be sure that each column has a unique format without any unexpected changes in formatting"
   ]
  },
  {
   "cell_type": "code",
   "execution_count": 6,
   "metadata": {},
   "outputs": [
    {
     "name": "stdout",
     "output_type": "stream",
     "text": [
      "<class 'pandas.core.frame.DataFrame'>\n",
      "RangeIndex: 1309155 entries, 0 to 1309154\n",
      "Data columns (total 22 columns):\n",
      " #   Column                 Non-Null Count    Dtype         \n",
      "---  ------                 --------------    -----         \n",
      " 0   VendorID               1309155 non-null  int64         \n",
      " 1   lpep_pickup_datetime   1309155 non-null  datetime64[ns]\n",
      " 2   Lpep_dropoff_datetime  1309155 non-null  datetime64[ns]\n",
      " 3   Store_and_fwd_flag     1309155 non-null  object        \n",
      " 4   RateCodeID             1309155 non-null  int64         \n",
      " 5   Pickup_longitude       1309155 non-null  float64       \n",
      " 6   Pickup_latitude        1309155 non-null  float64       \n",
      " 7   Dropoff_longitude      1309155 non-null  float64       \n",
      " 8   Dropoff_latitude       1309155 non-null  float64       \n",
      " 9   Passenger_count        1309155 non-null  int64         \n",
      " 10  Trip_distance          1309155 non-null  float64       \n",
      " 11  Fare_amount            1309155 non-null  float64       \n",
      " 12  Extra                  1309155 non-null  float64       \n",
      " 13  MTA_tax                1309155 non-null  float64       \n",
      " 14  Tip_amount             1309155 non-null  float64       \n",
      " 15  Tolls_amount           1309155 non-null  float64       \n",
      " 16  Ehail_fee              0 non-null        float64       \n",
      " 17  Total_amount           1309155 non-null  float64       \n",
      " 18  Payment_type           1309155 non-null  int64         \n",
      " 19  Trip_type              1225061 non-null  float64       \n",
      " 20  Unnamed: 20            0 non-null        float64       \n",
      " 21                         0 non-null        float64       \n",
      "dtypes: datetime64[ns](2), float64(15), int64(4), object(1)\n",
      "memory usage: 219.7+ MB\n"
     ]
    }
   ],
   "source": [
    "taxis.info()"
   ]
  },
  {
   "cell_type": "markdown",
   "metadata": {},
   "source": [
    "Computations are column based and written in a compact form"
   ]
  },
  {
   "cell_type": "code",
   "execution_count": 7,
   "metadata": {},
   "outputs": [
    {
     "data": {
      "text/plain": [
       "array([ 1., nan,  2.])"
      ]
     },
     "execution_count": 7,
     "metadata": {},
     "output_type": "execute_result"
    }
   ],
   "source": [
    "taxis['Trip_type'].unique()"
   ]
  },
  {
   "cell_type": "code",
   "execution_count": 8,
   "metadata": {},
   "outputs": [
    {
     "data": {
      "text/plain": [
       "12.339962212266684"
      ]
     },
     "execution_count": 8,
     "metadata": {},
     "output_type": "execute_result"
    }
   ],
   "source": [
    "taxis['Fare_amount'].mean()"
   ]
  },
  {
   "cell_type": "markdown",
   "metadata": {},
   "source": [
    "Easily index any part of the full DataFrame"
   ]
  },
  {
   "cell_type": "code",
   "execution_count": 9,
   "metadata": {},
   "outputs": [
    {
     "data": {
      "text/html": [
       "<div>\n",
       "<style scoped>\n",
       "    .dataframe tbody tr th:only-of-type {\n",
       "        vertical-align: middle;\n",
       "    }\n",
       "\n",
       "    .dataframe tbody tr th {\n",
       "        vertical-align: top;\n",
       "    }\n",
       "\n",
       "    .dataframe thead th {\n",
       "        text-align: right;\n",
       "    }\n",
       "</style>\n",
       "<table border=\"1\" class=\"dataframe\">\n",
       "  <thead>\n",
       "    <tr style=\"text-align: right;\">\n",
       "      <th></th>\n",
       "      <th>VendorID</th>\n",
       "      <th>lpep_pickup_datetime</th>\n",
       "      <th>Lpep_dropoff_datetime</th>\n",
       "      <th>Store_and_fwd_flag</th>\n",
       "      <th>RateCodeID</th>\n",
       "      <th>Pickup_longitude</th>\n",
       "      <th>Pickup_latitude</th>\n",
       "      <th>Dropoff_longitude</th>\n",
       "      <th>Dropoff_latitude</th>\n",
       "      <th>Passenger_count</th>\n",
       "      <th>...</th>\n",
       "      <th>Extra</th>\n",
       "      <th>MTA_tax</th>\n",
       "      <th>Tip_amount</th>\n",
       "      <th>Tolls_amount</th>\n",
       "      <th>Ehail_fee</th>\n",
       "      <th>Total_amount</th>\n",
       "      <th>Payment_type</th>\n",
       "      <th>Trip_type</th>\n",
       "      <th>Unnamed: 20</th>\n",
       "      <th></th>\n",
       "    </tr>\n",
       "  </thead>\n",
       "  <tbody>\n",
       "    <tr>\n",
       "      <th>1309150</th>\n",
       "      <td>2</td>\n",
       "      <td>2014-04-30 23:59:47</td>\n",
       "      <td>2014-05-01 00:11:07</td>\n",
       "      <td>N</td>\n",
       "      <td>1</td>\n",
       "      <td>-73.939415</td>\n",
       "      <td>40.805447</td>\n",
       "      <td>-73.952591</td>\n",
       "      <td>40.824951</td>\n",
       "      <td>1</td>\n",
       "      <td>...</td>\n",
       "      <td>0.5</td>\n",
       "      <td>0.5</td>\n",
       "      <td>2.62</td>\n",
       "      <td>0.0</td>\n",
       "      <td>NaN</td>\n",
       "      <td>13.62</td>\n",
       "      <td>1</td>\n",
       "      <td>1.0</td>\n",
       "      <td>NaN</td>\n",
       "      <td>NaN</td>\n",
       "    </tr>\n",
       "    <tr>\n",
       "      <th>1309151</th>\n",
       "      <td>1</td>\n",
       "      <td>2014-04-30 23:59:58</td>\n",
       "      <td>2014-05-01 00:21:50</td>\n",
       "      <td>N</td>\n",
       "      <td>1</td>\n",
       "      <td>-73.957474</td>\n",
       "      <td>40.717976</td>\n",
       "      <td>-73.908546</td>\n",
       "      <td>40.765022</td>\n",
       "      <td>1</td>\n",
       "      <td>...</td>\n",
       "      <td>0.5</td>\n",
       "      <td>0.5</td>\n",
       "      <td>5.85</td>\n",
       "      <td>0.0</td>\n",
       "      <td>NaN</td>\n",
       "      <td>25.35</td>\n",
       "      <td>1</td>\n",
       "      <td>1.0</td>\n",
       "      <td>NaN</td>\n",
       "      <td>NaN</td>\n",
       "    </tr>\n",
       "    <tr>\n",
       "      <th>1309152</th>\n",
       "      <td>2</td>\n",
       "      <td>2014-04-30 23:59:58</td>\n",
       "      <td>2014-05-01 00:07:19</td>\n",
       "      <td>N</td>\n",
       "      <td>1</td>\n",
       "      <td>-73.955650</td>\n",
       "      <td>40.721756</td>\n",
       "      <td>-73.942276</td>\n",
       "      <td>40.708183</td>\n",
       "      <td>1</td>\n",
       "      <td>...</td>\n",
       "      <td>0.5</td>\n",
       "      <td>0.5</td>\n",
       "      <td>2.00</td>\n",
       "      <td>0.0</td>\n",
       "      <td>NaN</td>\n",
       "      <td>11.00</td>\n",
       "      <td>1</td>\n",
       "      <td>1.0</td>\n",
       "      <td>NaN</td>\n",
       "      <td>NaN</td>\n",
       "    </tr>\n",
       "    <tr>\n",
       "      <th>1309153</th>\n",
       "      <td>2</td>\n",
       "      <td>2014-04-30 23:59:59</td>\n",
       "      <td>2014-05-01 00:09:18</td>\n",
       "      <td>N</td>\n",
       "      <td>1</td>\n",
       "      <td>-73.933823</td>\n",
       "      <td>40.802601</td>\n",
       "      <td>-73.918701</td>\n",
       "      <td>40.818592</td>\n",
       "      <td>1</td>\n",
       "      <td>...</td>\n",
       "      <td>0.5</td>\n",
       "      <td>0.5</td>\n",
       "      <td>0.00</td>\n",
       "      <td>0.0</td>\n",
       "      <td>NaN</td>\n",
       "      <td>11.00</td>\n",
       "      <td>2</td>\n",
       "      <td>1.0</td>\n",
       "      <td>NaN</td>\n",
       "      <td>NaN</td>\n",
       "    </tr>\n",
       "    <tr>\n",
       "      <th>1309154</th>\n",
       "      <td>1</td>\n",
       "      <td>2014-04-30 23:59:59</td>\n",
       "      <td>2014-05-01 00:26:09</td>\n",
       "      <td>N</td>\n",
       "      <td>1</td>\n",
       "      <td>-73.995766</td>\n",
       "      <td>40.691593</td>\n",
       "      <td>-73.834732</td>\n",
       "      <td>40.786205</td>\n",
       "      <td>2</td>\n",
       "      <td>...</td>\n",
       "      <td>0.5</td>\n",
       "      <td>0.5</td>\n",
       "      <td>8.60</td>\n",
       "      <td>0.0</td>\n",
       "      <td>NaN</td>\n",
       "      <td>51.60</td>\n",
       "      <td>1</td>\n",
       "      <td>1.0</td>\n",
       "      <td>NaN</td>\n",
       "      <td>NaN</td>\n",
       "    </tr>\n",
       "  </tbody>\n",
       "</table>\n",
       "<p>5 rows × 22 columns</p>\n",
       "</div>"
      ],
      "text/plain": [
       "         VendorID lpep_pickup_datetime Lpep_dropoff_datetime  \\\n",
       "1309150         2  2014-04-30 23:59:47   2014-05-01 00:11:07   \n",
       "1309151         1  2014-04-30 23:59:58   2014-05-01 00:21:50   \n",
       "1309152         2  2014-04-30 23:59:58   2014-05-01 00:07:19   \n",
       "1309153         2  2014-04-30 23:59:59   2014-05-01 00:09:18   \n",
       "1309154         1  2014-04-30 23:59:59   2014-05-01 00:26:09   \n",
       "\n",
       "        Store_and_fwd_flag  RateCodeID  Pickup_longitude  Pickup_latitude  \\\n",
       "1309150                  N           1        -73.939415        40.805447   \n",
       "1309151                  N           1        -73.957474        40.717976   \n",
       "1309152                  N           1        -73.955650        40.721756   \n",
       "1309153                  N           1        -73.933823        40.802601   \n",
       "1309154                  N           1        -73.995766        40.691593   \n",
       "\n",
       "         Dropoff_longitude  Dropoff_latitude  Passenger_count  ...  Extra  \\\n",
       "1309150         -73.952591         40.824951                1  ...    0.5   \n",
       "1309151         -73.908546         40.765022                1  ...    0.5   \n",
       "1309152         -73.942276         40.708183                1  ...    0.5   \n",
       "1309153         -73.918701         40.818592                1  ...    0.5   \n",
       "1309154         -73.834732         40.786205                2  ...    0.5   \n",
       "\n",
       "         MTA_tax  Tip_amount  Tolls_amount  Ehail_fee  Total_amount  \\\n",
       "1309150      0.5        2.62           0.0        NaN         13.62   \n",
       "1309151      0.5        5.85           0.0        NaN         25.35   \n",
       "1309152      0.5        2.00           0.0        NaN         11.00   \n",
       "1309153      0.5        0.00           0.0        NaN         11.00   \n",
       "1309154      0.5        8.60           0.0        NaN         51.60   \n",
       "\n",
       "         Payment_type  Trip_type  Unnamed: 20      \n",
       "1309150             1        1.0          NaN NaN  \n",
       "1309151             1        1.0          NaN NaN  \n",
       "1309152             1        1.0          NaN NaN  \n",
       "1309153             2        1.0          NaN NaN  \n",
       "1309154             1        1.0          NaN NaN  \n",
       "\n",
       "[5 rows x 22 columns]"
      ]
     },
     "execution_count": 9,
     "metadata": {},
     "output_type": "execute_result"
    }
   ],
   "source": [
    "taxis.tail()"
   ]
  },
  {
   "cell_type": "markdown",
   "metadata": {},
   "source": [
    "## Mortgage Calculator"
   ]
  },
  {
   "cell_type": "markdown",
   "metadata": {},
   "source": [
    "The logic underlying any computation is always clear, as each cell displays the code instead of just the computed values"
   ]
  },
  {
   "cell_type": "code",
   "execution_count": 10,
   "metadata": {},
   "outputs": [],
   "source": [
    "price = 1_000_000\n",
    "down = .2 * price\n",
    "ammount = price-down\n",
    "years = 30\n",
    "months = 12*years\n",
    "rate = .03/12"
   ]
  },
  {
   "cell_type": "code",
   "execution_count": 11,
   "metadata": {},
   "outputs": [],
   "source": [
    "payment = npf.pmt(rate, months, -ammount)"
   ]
  },
  {
   "cell_type": "code",
   "execution_count": 12,
   "metadata": {},
   "outputs": [],
   "source": [
    "dates = pd.date_range('08/01/2020', periods=months, freq='M')+pd.Timedelta('1D')"
   ]
  },
  {
   "cell_type": "markdown",
   "metadata": {},
   "source": [
    "From these few lines of code we can easily audit how the computation is performing and find any existing bugs"
   ]
  },
  {
   "cell_type": "code",
   "execution_count": 13,
   "metadata": {},
   "outputs": [],
   "source": [
    "rows = []\n",
    "\n",
    "balance = price - down \n",
    "extra_payment = 100\n",
    "\n",
    "for month in dates:\n",
    "    row = [month]\n",
    "    row.append(balance)\n",
    "    row.append(payment)\n",
    "    row.append(extra_payment)\n",
    "    row.append(payment+extra_payment)\n",
    "    \n",
    "    interest = balance*rate\n",
    "    principal = payment-interest\n",
    "    \n",
    "    row.append(principal+extra_payment)\n",
    "    row.append(interest)\n",
    "    \n",
    "    balance -= principal+extra_payment\n",
    "    \n",
    "    row.append(balance)\n",
    "    rows.append(row)\n",
    "    \n",
    "    if balance <= 0:\n",
    "        break"
   ]
  },
  {
   "cell_type": "markdown",
   "metadata": {},
   "source": [
    "And convert the data into a compact DataFrame that can be used to perform further computations"
   ]
  },
  {
   "cell_type": "code",
   "execution_count": 14,
   "metadata": {},
   "outputs": [],
   "source": [
    "mortgage = pd.DataFrame(rows, columns=['Date', 'Beginning Balance', 'Scheduled Payment', 'Extra Payment', \n",
    "                                       'Total Payment', 'Principal', 'Interest', 'Ending Balance'])\n",
    "mortgage['Cummulative Interest'] = mortgage.Interest.cumsum()"
   ]
  },
  {
   "cell_type": "code",
   "execution_count": 15,
   "metadata": {},
   "outputs": [
    {
     "data": {
      "text/html": [
       "<div>\n",
       "<style scoped>\n",
       "    .dataframe tbody tr th:only-of-type {\n",
       "        vertical-align: middle;\n",
       "    }\n",
       "\n",
       "    .dataframe tbody tr th {\n",
       "        vertical-align: top;\n",
       "    }\n",
       "\n",
       "    .dataframe thead th {\n",
       "        text-align: right;\n",
       "    }\n",
       "</style>\n",
       "<table border=\"1\" class=\"dataframe\">\n",
       "  <thead>\n",
       "    <tr style=\"text-align: right;\">\n",
       "      <th></th>\n",
       "      <th>Date</th>\n",
       "      <th>Beginning Balance</th>\n",
       "      <th>Scheduled Payment</th>\n",
       "      <th>Extra Payment</th>\n",
       "      <th>Total Payment</th>\n",
       "      <th>Principal</th>\n",
       "      <th>Interest</th>\n",
       "      <th>Ending Balance</th>\n",
       "      <th>Cummulative Interest</th>\n",
       "    </tr>\n",
       "  </thead>\n",
       "  <tbody>\n",
       "    <tr>\n",
       "      <th>0</th>\n",
       "      <td>2020-09-01</td>\n",
       "      <td>800000.000000</td>\n",
       "      <td>3372.83227</td>\n",
       "      <td>100</td>\n",
       "      <td>3472.83227</td>\n",
       "      <td>1472.832270</td>\n",
       "      <td>2000.000000</td>\n",
       "      <td>798527.167730</td>\n",
       "      <td>2000.000000</td>\n",
       "    </tr>\n",
       "    <tr>\n",
       "      <th>1</th>\n",
       "      <td>2020-10-01</td>\n",
       "      <td>798527.167730</td>\n",
       "      <td>3372.83227</td>\n",
       "      <td>100</td>\n",
       "      <td>3472.83227</td>\n",
       "      <td>1476.514351</td>\n",
       "      <td>1996.317919</td>\n",
       "      <td>797050.653380</td>\n",
       "      <td>3996.317919</td>\n",
       "    </tr>\n",
       "    <tr>\n",
       "      <th>2</th>\n",
       "      <td>2020-11-01</td>\n",
       "      <td>797050.653380</td>\n",
       "      <td>3372.83227</td>\n",
       "      <td>100</td>\n",
       "      <td>3472.83227</td>\n",
       "      <td>1480.205636</td>\n",
       "      <td>1992.626633</td>\n",
       "      <td>795570.447743</td>\n",
       "      <td>5988.944553</td>\n",
       "    </tr>\n",
       "    <tr>\n",
       "      <th>3</th>\n",
       "      <td>2020-12-01</td>\n",
       "      <td>795570.447743</td>\n",
       "      <td>3372.83227</td>\n",
       "      <td>100</td>\n",
       "      <td>3472.83227</td>\n",
       "      <td>1483.906150</td>\n",
       "      <td>1988.926119</td>\n",
       "      <td>794086.541593</td>\n",
       "      <td>7977.870672</td>\n",
       "    </tr>\n",
       "    <tr>\n",
       "      <th>4</th>\n",
       "      <td>2021-01-01</td>\n",
       "      <td>794086.541593</td>\n",
       "      <td>3372.83227</td>\n",
       "      <td>100</td>\n",
       "      <td>3472.83227</td>\n",
       "      <td>1487.615916</td>\n",
       "      <td>1985.216354</td>\n",
       "      <td>792598.925677</td>\n",
       "      <td>9963.087026</td>\n",
       "    </tr>\n",
       "    <tr>\n",
       "      <th>...</th>\n",
       "      <td>...</td>\n",
       "      <td>...</td>\n",
       "      <td>...</td>\n",
       "      <td>...</td>\n",
       "      <td>...</td>\n",
       "      <td>...</td>\n",
       "      <td>...</td>\n",
       "      <td>...</td>\n",
       "      <td>...</td>\n",
       "    </tr>\n",
       "    <tr>\n",
       "      <th>339</th>\n",
       "      <td>2048-12-01</td>\n",
       "      <td>15664.923674</td>\n",
       "      <td>3372.83227</td>\n",
       "      <td>100</td>\n",
       "      <td>3472.83227</td>\n",
       "      <td>3433.669961</td>\n",
       "      <td>39.162309</td>\n",
       "      <td>12231.253713</td>\n",
       "      <td>392994.225458</td>\n",
       "    </tr>\n",
       "    <tr>\n",
       "      <th>340</th>\n",
       "      <td>2049-01-01</td>\n",
       "      <td>12231.253713</td>\n",
       "      <td>3372.83227</td>\n",
       "      <td>100</td>\n",
       "      <td>3472.83227</td>\n",
       "      <td>3442.254136</td>\n",
       "      <td>30.578134</td>\n",
       "      <td>8788.999578</td>\n",
       "      <td>393024.803592</td>\n",
       "    </tr>\n",
       "    <tr>\n",
       "      <th>341</th>\n",
       "      <td>2049-02-01</td>\n",
       "      <td>8788.999578</td>\n",
       "      <td>3372.83227</td>\n",
       "      <td>100</td>\n",
       "      <td>3472.83227</td>\n",
       "      <td>3450.859771</td>\n",
       "      <td>21.972499</td>\n",
       "      <td>5338.139807</td>\n",
       "      <td>393046.776091</td>\n",
       "    </tr>\n",
       "    <tr>\n",
       "      <th>342</th>\n",
       "      <td>2049-03-01</td>\n",
       "      <td>5338.139807</td>\n",
       "      <td>3372.83227</td>\n",
       "      <td>100</td>\n",
       "      <td>3472.83227</td>\n",
       "      <td>3459.486920</td>\n",
       "      <td>13.345350</td>\n",
       "      <td>1878.652887</td>\n",
       "      <td>393060.121440</td>\n",
       "    </tr>\n",
       "    <tr>\n",
       "      <th>343</th>\n",
       "      <td>2049-04-01</td>\n",
       "      <td>1878.652887</td>\n",
       "      <td>3372.83227</td>\n",
       "      <td>100</td>\n",
       "      <td>3472.83227</td>\n",
       "      <td>3468.135638</td>\n",
       "      <td>4.696632</td>\n",
       "      <td>-1589.482751</td>\n",
       "      <td>393064.818073</td>\n",
       "    </tr>\n",
       "  </tbody>\n",
       "</table>\n",
       "<p>344 rows × 9 columns</p>\n",
       "</div>"
      ],
      "text/plain": [
       "          Date  Beginning Balance  Scheduled Payment  Extra Payment  \\\n",
       "0   2020-09-01      800000.000000         3372.83227            100   \n",
       "1   2020-10-01      798527.167730         3372.83227            100   \n",
       "2   2020-11-01      797050.653380         3372.83227            100   \n",
       "3   2020-12-01      795570.447743         3372.83227            100   \n",
       "4   2021-01-01      794086.541593         3372.83227            100   \n",
       "..         ...                ...                ...            ...   \n",
       "339 2048-12-01       15664.923674         3372.83227            100   \n",
       "340 2049-01-01       12231.253713         3372.83227            100   \n",
       "341 2049-02-01        8788.999578         3372.83227            100   \n",
       "342 2049-03-01        5338.139807         3372.83227            100   \n",
       "343 2049-04-01        1878.652887         3372.83227            100   \n",
       "\n",
       "     Total Payment    Principal     Interest  Ending Balance  \\\n",
       "0       3472.83227  1472.832270  2000.000000   798527.167730   \n",
       "1       3472.83227  1476.514351  1996.317919   797050.653380   \n",
       "2       3472.83227  1480.205636  1992.626633   795570.447743   \n",
       "3       3472.83227  1483.906150  1988.926119   794086.541593   \n",
       "4       3472.83227  1487.615916  1985.216354   792598.925677   \n",
       "..             ...          ...          ...             ...   \n",
       "339     3472.83227  3433.669961    39.162309    12231.253713   \n",
       "340     3472.83227  3442.254136    30.578134     8788.999578   \n",
       "341     3472.83227  3450.859771    21.972499     5338.139807   \n",
       "342     3472.83227  3459.486920    13.345350     1878.652887   \n",
       "343     3472.83227  3468.135638     4.696632    -1589.482751   \n",
       "\n",
       "     Cummulative Interest  \n",
       "0             2000.000000  \n",
       "1             3996.317919  \n",
       "2             5988.944553  \n",
       "3             7977.870672  \n",
       "4             9963.087026  \n",
       "..                    ...  \n",
       "339         392994.225458  \n",
       "340         393024.803592  \n",
       "341         393046.776091  \n",
       "342         393060.121440  \n",
       "343         393064.818073  \n",
       "\n",
       "[344 rows x 9 columns]"
      ]
     },
     "execution_count": 15,
     "metadata": {},
     "output_type": "execute_result"
    }
   ],
   "source": [
    "mortgage"
   ]
  },
  {
   "cell_type": "markdown",
   "metadata": {},
   "source": [
    "## Non-standardized data"
   ]
  },
  {
   "cell_type": "code",
   "execution_count": 16,
   "metadata": {},
   "outputs": [],
   "source": [
    "movies = pd.read_excel('data/movies.xlsx')"
   ]
  },
  {
   "cell_type": "markdown",
   "metadata": {},
   "source": [
    "Unexpected spaces in the data"
   ]
  },
  {
   "cell_type": "code",
   "execution_count": 17,
   "metadata": {},
   "outputs": [
    {
     "data": {
      "text/plain": [
       "\"Intolerance: Love's Struggle Throughout the Ages\\xa0\""
      ]
     },
     "execution_count": 17,
     "metadata": {},
     "output_type": "execute_result"
    }
   ],
   "source": [
    "movies['Title'].iloc[0]"
   ]
  },
  {
   "cell_type": "markdown",
   "metadata": {},
   "source": [
    "That can easily be cleaned"
   ]
  },
  {
   "cell_type": "code",
   "execution_count": 18,
   "metadata": {},
   "outputs": [],
   "source": [
    "movies['Title'] = movies['Title'].transform(lambda x:x.strip())"
   ]
  },
  {
   "cell_type": "code",
   "execution_count": 19,
   "metadata": {},
   "outputs": [
    {
     "data": {
      "text/plain": [
       "\"Intolerance: Love's Struggle Throughout the Ages\""
      ]
     },
     "execution_count": 19,
     "metadata": {},
     "output_type": "execute_result"
    }
   ],
   "source": [
    "movies['Title'].iloc[0]"
   ]
  },
  {
   "cell_type": "markdown",
   "metadata": {},
   "source": [
    "<div style=\"width: 100%; overflow: hidden;\">\n",
    "     <img src=\"data/D4Sci_logo_full.png\" alt=\"Data For Science, Inc\" align=\"center\" border=\"0\" width=300px> \n",
    "</div>"
   ]
  }
 ],
 "metadata": {
  "kernelspec": {
   "display_name": "Python 3",
   "language": "python",
   "name": "python3"
  },
  "language_info": {
   "codemirror_mode": {
    "name": "ipython",
    "version": 3
   },
   "file_extension": ".py",
   "mimetype": "text/x-python",
   "name": "python",
   "nbconvert_exporter": "python",
   "pygments_lexer": "ipython3",
   "version": "3.7.3"
  },
  "toc": {
   "base_numbering": 1,
   "nav_menu": {},
   "number_sections": true,
   "sideBar": true,
   "skip_h1_title": true,
   "title_cell": "Table of Contents",
   "title_sidebar": "Contents",
   "toc_cell": false,
   "toc_position": {},
   "toc_section_display": true,
   "toc_window_display": false
  },
  "varInspector": {
   "cols": {
    "lenName": 16,
    "lenType": 16,
    "lenVar": 40
   },
   "kernels_config": {
    "python": {
     "delete_cmd_postfix": "",
     "delete_cmd_prefix": "del ",
     "library": "var_list.py",
     "varRefreshCmd": "print(var_dic_list())"
    },
    "r": {
     "delete_cmd_postfix": ") ",
     "delete_cmd_prefix": "rm(",
     "library": "var_list.r",
     "varRefreshCmd": "cat(var_dic_list()) "
    }
   },
   "types_to_exclude": [
    "module",
    "function",
    "builtin_function_or_method",
    "instance",
    "_Feature"
   ],
   "window_display": false
  }
 },
 "nbformat": 4,
 "nbformat_minor": 2
}
