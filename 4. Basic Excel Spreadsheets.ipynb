{
 "cells": [
  {
   "cell_type": "markdown",
   "metadata": {},
   "source": [
    "<div style=\"width: 100%; overflow: hidden;\">\n",
    "    <div style=\"width: 150px; float: left;\"> <img src=\"data/D4Sci_logo_ball.png\" alt=\"Data For Science, Inc\" align=\"left\" border=\"0\"> </div>\n",
    "    <div style=\"float: left; margin-left: 10px;\"> <h1>Transforming Excel Analysis into pandas Data Models</h1>\n",
    "<h1>Basic Excel Spreadsheets</h1>\n",
    "        <p>Bruno Gonçalves<br/>\n",
    "        <a href=\"http://www.data4sci.com/\">www.data4sci.com</a><br/>\n",
    "            @bgoncalves, @data4sci</p></div>\n",
    "</div>"
   ]
  },
  {
   "cell_type": "code",
   "execution_count": 1,
   "metadata": {},
   "outputs": [],
   "source": [
    "from collections import Counter\n",
    "from pprint import pprint\n",
    "\n",
    "import pandas as pd\n",
    "import numpy as np\n",
    "\n",
    "import matplotlib\n",
    "import matplotlib.pyplot as plt \n",
    "\n",
    "import openpyxl\n",
    "\n",
    "import watermark\n",
    "\n",
    "%load_ext watermark\n",
    "%matplotlib inline"
   ]
  },
  {
   "cell_type": "markdown",
   "metadata": {},
   "source": [
    "We start by print out the versions of the libraries we're using for future reference"
   ]
  },
  {
   "cell_type": "code",
   "execution_count": 2,
   "metadata": {},
   "outputs": [
    {
     "name": "stdout",
     "output_type": "stream",
     "text": [
      "numpy      1.18.1\n",
      "pandas     1.0.1\n",
      "openpyxl   3.0.5\n",
      "json       2.0.9\n",
      "autopep8   1.5\n",
      "matplotlib 3.1.3\n",
      "watermark  2.0.2\n",
      "Thu Sep 03 2020 \n",
      "\n",
      "CPython 3.7.3\n",
      "IPython 6.2.1\n",
      "\n",
      "compiler   : Clang 4.0.1 (tags/RELEASE_401/final)\n",
      "system     : Darwin\n",
      "release    : 19.6.0\n",
      "machine    : x86_64\n",
      "processor  : i386\n",
      "CPU cores  : 8\n",
      "interpreter: 64bit\n",
      "Git hash   : db6f805bfd2f0754fac849822010bc72ecbfeb20\n"
     ]
    }
   ],
   "source": [
    "%watermark -n -v -m -g -iv"
   ]
  },
  {
   "cell_type": "markdown",
   "metadata": {},
   "source": [
    "Load default figure style"
   ]
  },
  {
   "cell_type": "code",
   "execution_count": 3,
   "metadata": {},
   "outputs": [],
   "source": [
    "plt.style.use('./d4sci.mplstyle')"
   ]
  },
  {
   "cell_type": "markdown",
   "metadata": {},
   "source": [
    "## Create a new empty workbook"
   ]
  },
  {
   "cell_type": "code",
   "execution_count": 4,
   "metadata": {},
   "outputs": [],
   "source": [
    "book = openpyxl.Workbook()"
   ]
  },
  {
   "cell_type": "markdown",
   "metadata": {},
   "source": [
    "Workbooks are always created with at least one sheet"
   ]
  },
  {
   "cell_type": "code",
   "execution_count": 5,
   "metadata": {},
   "outputs": [
    {
     "data": {
      "text/plain": [
       "['Sheet']"
      ]
     },
     "execution_count": 5,
     "metadata": {},
     "output_type": "execute_result"
    }
   ],
   "source": [
    "book.sheetnames"
   ]
  },
  {
   "cell_type": "markdown",
   "metadata": {},
   "source": [
    "We can index it directly by name:"
   ]
  },
  {
   "cell_type": "code",
   "execution_count": 6,
   "metadata": {},
   "outputs": [
    {
     "name": "stdout",
     "output_type": "stream",
     "text": [
      "<Worksheet \"Sheet\">\n"
     ]
    }
   ],
   "source": [
    "sheet = book['Sheet']\n",
    "print(sheet)"
   ]
  },
  {
   "cell_type": "markdown",
   "metadata": {},
   "source": [
    "Or simply get the currently active one"
   ]
  },
  {
   "cell_type": "code",
   "execution_count": 7,
   "metadata": {},
   "outputs": [
    {
     "name": "stdout",
     "output_type": "stream",
     "text": [
      "<Worksheet \"Sheet\">\n"
     ]
    }
   ],
   "source": [
    "sheet = book.active\n",
    "print(sheet)"
   ]
  },
  {
   "cell_type": "markdown",
   "metadata": {},
   "source": [
    "And to rename it we can doo"
   ]
  },
  {
   "cell_type": "code",
   "execution_count": 8,
   "metadata": {},
   "outputs": [],
   "source": [
    "sheet.title = 'My Data'"
   ]
  },
  {
   "cell_type": "markdown",
   "metadata": {},
   "source": [
    "And now we see that the name has changed, as expected"
   ]
  },
  {
   "cell_type": "code",
   "execution_count": 9,
   "metadata": {},
   "outputs": [
    {
     "data": {
      "text/plain": [
       "['My Data']"
      ]
     },
     "execution_count": 9,
     "metadata": {},
     "output_type": "execute_result"
    }
   ],
   "source": [
    "book.sheetnames"
   ]
  },
  {
   "cell_type": "markdown",
   "metadata": {},
   "source": [
    "The sheet is currently empty"
   ]
  },
  {
   "cell_type": "code",
   "execution_count": 10,
   "metadata": {},
   "outputs": [
    {
     "data": {
      "text/plain": [
       "'A1:A1'"
      ]
     },
     "execution_count": 10,
     "metadata": {},
     "output_type": "execute_result"
    }
   ],
   "source": [
    "sheet.dimensions"
   ]
  },
  {
   "cell_type": "markdown",
   "metadata": {},
   "source": [
    "Let's add some data"
   ]
  },
  {
   "cell_type": "code",
   "execution_count": 11,
   "metadata": {},
   "outputs": [],
   "source": [
    "sheet['A3'] = \"Hello\"\n",
    "sheet['B3'] = \"World\""
   ]
  },
  {
   "cell_type": "markdown",
   "metadata": {},
   "source": [
    "Now we see that we have a few more rows/columns"
   ]
  },
  {
   "cell_type": "code",
   "execution_count": 12,
   "metadata": {},
   "outputs": [
    {
     "data": {
      "text/plain": [
       "'A3:B3'"
      ]
     },
     "execution_count": 12,
     "metadata": {},
     "output_type": "execute_result"
    }
   ],
   "source": [
    "sheet.dimensions"
   ]
  },
  {
   "cell_type": "code",
   "execution_count": 13,
   "metadata": {},
   "outputs": [],
   "source": [
    "rows = np.arange(20).reshape(10, 2)"
   ]
  },
  {
   "cell_type": "code",
   "execution_count": 14,
   "metadata": {},
   "outputs": [
    {
     "data": {
      "text/plain": [
       "array([[ 0,  1],\n",
       "       [ 2,  3],\n",
       "       [ 4,  5],\n",
       "       [ 6,  7],\n",
       "       [ 8,  9],\n",
       "       [10, 11],\n",
       "       [12, 13],\n",
       "       [14, 15],\n",
       "       [16, 17],\n",
       "       [18, 19]])"
      ]
     },
     "execution_count": 14,
     "metadata": {},
     "output_type": "execute_result"
    }
   ],
   "source": [
    "rows"
   ]
  },
  {
   "cell_type": "code",
   "execution_count": 15,
   "metadata": {},
   "outputs": [],
   "source": [
    "for row in rows:\n",
    "    sheet.append(list(row)) # Rows have to be lists or tuples"
   ]
  },
  {
   "cell_type": "code",
   "execution_count": 16,
   "metadata": {},
   "outputs": [
    {
     "data": {
      "text/plain": [
       "'A3:B13'"
      ]
     },
     "execution_count": 16,
     "metadata": {},
     "output_type": "execute_result"
    }
   ],
   "source": [
    "sheet.dimensions"
   ]
  },
  {
   "cell_type": "markdown",
   "metadata": {},
   "source": [
    "And finally we can save our new workbooks"
   ]
  },
  {
   "cell_type": "code",
   "execution_count": 17,
   "metadata": {},
   "outputs": [],
   "source": [
    "book.save('data/Simple.xlsx')"
   ]
  },
  {
   "cell_type": "code",
   "execution_count": 18,
   "metadata": {},
   "outputs": [],
   "source": [
    "!open data/Simple.xlsx"
   ]
  },
  {
   "cell_type": "markdown",
   "metadata": {},
   "source": [
    "## Load an existing Workbook"
   ]
  },
  {
   "cell_type": "code",
   "execution_count": 19,
   "metadata": {},
   "outputs": [],
   "source": [
    "book = openpyxl.load_workbook('data/Simple.xlsx')"
   ]
  },
  {
   "cell_type": "markdown",
   "metadata": {},
   "source": [
    "List all the available worksheets"
   ]
  },
  {
   "cell_type": "code",
   "execution_count": 20,
   "metadata": {},
   "outputs": [
    {
     "data": {
      "text/plain": [
       "['My Data']"
      ]
     },
     "execution_count": 20,
     "metadata": {},
     "output_type": "execute_result"
    }
   ],
   "source": [
    "book.sheetnames"
   ]
  },
  {
   "cell_type": "markdown",
   "metadata": {},
   "source": [
    "Get the worksheet by name"
   ]
  },
  {
   "cell_type": "code",
   "execution_count": 21,
   "metadata": {},
   "outputs": [],
   "source": [
    "sheet = book['My Data']"
   ]
  },
  {
   "cell_type": "markdown",
   "metadata": {},
   "source": [
    "Print some statistics"
   ]
  },
  {
   "cell_type": "code",
   "execution_count": 22,
   "metadata": {},
   "outputs": [
    {
     "name": "stdout",
     "output_type": "stream",
     "text": [
      "A3:B13\n",
      "Min row: 3 Max row: 13\n",
      "Min col: 1 Max col: 2\n"
     ]
    }
   ],
   "source": [
    "print(sheet.dimensions)\n",
    "print(\"Min row: %u Max row: %u\" % (sheet.min_row, sheet.max_row))\n",
    "print(\"Min col: %u Max col: %u\" % (sheet.min_column, sheet.max_column))"
   ]
  },
  {
   "cell_type": "markdown",
   "metadata": {},
   "source": [
    "Print all the values:"
   ]
  },
  {
   "cell_type": "code",
   "execution_count": 23,
   "metadata": {},
   "outputs": [
    {
     "name": "stdout",
     "output_type": "stream",
     "text": [
      "Hello World\n",
      "0 1\n",
      "2 3\n",
      "4 5\n",
      "6 7\n",
      "8 9\n",
      "10 11\n",
      "12 13\n",
      "14 15\n",
      "16 17\n",
      "18 19\n"
     ]
    }
   ],
   "source": [
    "for c1, c2 in sheet[sheet.dimensions]:\n",
    "    print(c1.value, c2.value)"
   ]
  },
  {
   "cell_type": "markdown",
   "metadata": {},
   "source": [
    "## Add a new sheet"
   ]
  },
  {
   "cell_type": "code",
   "execution_count": 24,
   "metadata": {},
   "outputs": [],
   "source": [
    "sheet = book.create_sheet(title=\"My analysis\", index=0)"
   ]
  },
  {
   "cell_type": "code",
   "execution_count": 25,
   "metadata": {},
   "outputs": [
    {
     "data": {
      "text/plain": [
       "['My analysis', 'My Data']"
      ]
     },
     "execution_count": 25,
     "metadata": {},
     "output_type": "execute_result"
    }
   ],
   "source": [
    "book.sheetnames"
   ]
  },
  {
   "cell_type": "code",
   "execution_count": 26,
   "metadata": {},
   "outputs": [
    {
     "data": {
      "text/plain": [
       "<Worksheet \"My analysis\">"
      ]
     },
     "execution_count": 26,
     "metadata": {},
     "output_type": "execute_result"
    }
   ],
   "source": [
    "sheet"
   ]
  },
  {
   "cell_type": "code",
   "execution_count": 27,
   "metadata": {},
   "outputs": [],
   "source": [
    "sheet[\"B4\"] = \"The best results\"\n",
    "sheet[\"B5\"] = \"guaranteed!\""
   ]
  },
  {
   "cell_type": "markdown",
   "metadata": {},
   "source": [
    "and the file again:"
   ]
  },
  {
   "cell_type": "code",
   "execution_count": 28,
   "metadata": {},
   "outputs": [],
   "source": [
    "book.save(\"data/Simple2.xlsx\")"
   ]
  },
  {
   "cell_type": "code",
   "execution_count": 29,
   "metadata": {},
   "outputs": [],
   "source": [
    "!open data/Simple2.xlsx"
   ]
  },
  {
   "cell_type": "markdown",
   "metadata": {},
   "source": [
    "## Remove sheets from an existing file"
   ]
  },
  {
   "cell_type": "code",
   "execution_count": 30,
   "metadata": {},
   "outputs": [],
   "source": [
    "book = openpyxl.load_workbook(\"data/movies.xlsx\")"
   ]
  },
  {
   "cell_type": "code",
   "execution_count": 31,
   "metadata": {},
   "outputs": [
    {
     "data": {
      "text/plain": [
       "['1900s', '2000s', '2010s', '3000s']"
      ]
     },
     "execution_count": 31,
     "metadata": {},
     "output_type": "execute_result"
    }
   ],
   "source": [
    "book.sheetnames"
   ]
  },
  {
   "cell_type": "code",
   "execution_count": 32,
   "metadata": {},
   "outputs": [],
   "source": [
    "book.remove(book[\"3000s\"])"
   ]
  },
  {
   "cell_type": "code",
   "execution_count": 33,
   "metadata": {},
   "outputs": [
    {
     "data": {
      "text/plain": [
       "['1900s', '2000s', '2010s']"
      ]
     },
     "execution_count": 33,
     "metadata": {},
     "output_type": "execute_result"
    }
   ],
   "source": [
    "book.sheetnames"
   ]
  },
  {
   "cell_type": "code",
   "execution_count": 34,
   "metadata": {},
   "outputs": [],
   "source": [
    "book.save('data/movies2.xlsx')"
   ]
  },
  {
   "cell_type": "code",
   "execution_count": 35,
   "metadata": {},
   "outputs": [],
   "source": [
    "!open data/movies2.xlsx"
   ]
  },
  {
   "cell_type": "markdown",
   "metadata": {},
   "source": [
    "## Extract formulas "
   ]
  },
  {
   "cell_type": "code",
   "execution_count": 36,
   "metadata": {},
   "outputs": [
    {
     "name": "stderr",
     "output_type": "stream",
     "text": [
      "/Users/bgoncalves/anaconda3/lib/python3.7/site-packages/openpyxl/worksheet/header_footer.py:48: UserWarning: Cannot parse header or footer so it will be ignored\n",
      "  warn(\"\"\"Cannot parse header or footer so it will be ignored\"\"\")\n"
     ]
    }
   ],
   "source": [
    "book = openpyxl.load_workbook('data/excel-mortgage-calculator.xlsx')"
   ]
  },
  {
   "cell_type": "code",
   "execution_count": 37,
   "metadata": {},
   "outputs": [
    {
     "data": {
      "text/plain": [
       "['Excel Amortization Schedule']"
      ]
     },
     "execution_count": 37,
     "metadata": {},
     "output_type": "execute_result"
    }
   ],
   "source": [
    "book.sheetnames"
   ]
  },
  {
   "cell_type": "code",
   "execution_count": 38,
   "metadata": {},
   "outputs": [],
   "source": [
    "sheet = book.active"
   ]
  },
  {
   "cell_type": "code",
   "execution_count": 39,
   "metadata": {},
   "outputs": [
    {
     "data": {
      "text/plain": [
       "'B3:K376'"
      ]
     },
     "execution_count": 39,
     "metadata": {},
     "output_type": "execute_result"
    }
   ],
   "source": [
    "sheet.dimensions"
   ]
  },
  {
   "cell_type": "markdown",
   "metadata": {},
   "source": [
    "The computed values start at B17, so we print that row plus the previous one for the headers."
   ]
  },
  {
   "cell_type": "code",
   "execution_count": 40,
   "metadata": {},
   "outputs": [
    {
     "name": "stdout",
     "output_type": "stream",
     "text": [
      "B16: 'PMT NO'\n",
      "C16: 'PAYMENT DATE'\n",
      "D16: 'BEGINNING BALANCE'\n",
      "E16: 'SCHEDULED PAYMENT'\n",
      "F16: 'EXTRA PAYMENT'\n",
      "G16: 'TOTAL PAYMENT'\n",
      "H16: 'PRINCIPAL'\n",
      "I16: 'INTEREST'\n",
      "J16: 'ENDING BALANCE'\n",
      "K16: 'CUMULATIVE INTEREST'\n",
      "\n",
      "B17: '=IF(LoanIsGood,IF(ROW()-ROW(PaymentSchedule[[#Headers],[PMT NO]])>ScheduledNumberOfPayments,\"\",ROW()-ROW(PaymentSchedule[[#Headers],[PMT NO]])),\"\")'\n",
      "C17: '=IF(PaymentSchedule[[#This Row],[PMT NO]]<>\"\",EOMONTH(LoanStartDate,ROW(PaymentSchedule[[#This Row],[PMT NO]])-ROW(PaymentSchedule[[#Headers],[PMT NO]])-2)+DAY(LoanStartDate),\"\")'\n",
      "D17: '=IF(PaymentSchedule[[#This Row],[PMT NO]]<>\"\",IF(ROW()-ROW(PaymentSchedule[[#Headers],[BEGINNING BALANCE]])=1,LoanAmount,INDEX(PaymentSchedule[ENDING BALANCE],ROW()-ROW(PaymentSchedule[[#Headers],[BEGINNING BALANCE]])-1)),\"\")'\n",
      "E17: '=IF(PaymentSchedule[[#This Row],[PMT NO]]<>\"\",ScheduledPayment,\"\")'\n",
      "F17: '=IF(PaymentSchedule[[#This Row],[PMT NO]]<>\"\",IF(PaymentSchedule[[#This Row],[SCHEDULED PAYMENT]]+ExtraPayments<PaymentSchedule[[#This Row],[BEGINNING BALANCE]],ExtraPayments,IF(PaymentSchedule[[#This Row],[BEGINNING BALANCE]]-PaymentSchedule[[#This Row],[SCHEDULED PAYMENT]]>0,PaymentSchedule[[#This Row],[BEGINNING BALANCE]]-PaymentSchedule[[#This Row],[SCHEDULED PAYMENT]],0)),\"\")'\n",
      "G17: '=IF(PaymentSchedule[[#This Row],[PMT NO]]<>\"\",IF(PaymentSchedule[[#This Row],[SCHEDULED PAYMENT]]+PaymentSchedule[[#This Row],[EXTRA PAYMENT]]<=PaymentSchedule[[#This Row],[BEGINNING BALANCE]],PaymentSchedule[[#This Row],[SCHEDULED PAYMENT]]+PaymentSchedule[[#This Row],[EXTRA PAYMENT]],PaymentSchedule[[#This Row],[BEGINNING BALANCE]]),\"\")'\n",
      "H17: '=IF(PaymentSchedule[[#This Row],[PMT NO]]<>\"\",PaymentSchedule[[#This Row],[TOTAL PAYMENT]]-PaymentSchedule[[#This Row],[INTEREST]],\"\")'\n",
      "I17: '=IF(PaymentSchedule[[#This Row],[PMT NO]]<>\"\",PaymentSchedule[[#This Row],[BEGINNING BALANCE]]*(InterestRate/PaymentsPerYear),\"\")'\n",
      "J17: '=IF(PaymentSchedule[[#This Row],[PMT NO]]<>\"\",IF(PaymentSchedule[[#This Row],[SCHEDULED PAYMENT]]+PaymentSchedule[[#This Row],[EXTRA PAYMENT]]<=PaymentSchedule[[#This Row],[BEGINNING BALANCE]],PaymentSchedule[[#This Row],[BEGINNING BALANCE]]-PaymentSchedule[[#This Row],[PRINCIPAL]],0),\"\")'\n",
      "K17: '=IF(PaymentSchedule[[#This Row],[PMT NO]]<>\"\",SUM(INDEX(PaymentSchedule[INTEREST],1,1):PaymentSchedule[[#This Row],[INTEREST]]),\"\")'\n",
      "\n"
     ]
    }
   ],
   "source": [
    "for row in sheet[\"B16:K17\"]:\n",
    "    for cell in row:\n",
    "        print(\"%s%s: '%s'\" % (cell.column_letter, cell.row, cell.value))\n",
    "    print(\"\")"
   ]
  },
  {
   "cell_type": "markdown",
   "metadata": {},
   "source": [
    "If instead of opened the file with data_only=True, we would get the numerical values instead"
   ]
  },
  {
   "cell_type": "code",
   "execution_count": 41,
   "metadata": {},
   "outputs": [
    {
     "name": "stdout",
     "output_type": "stream",
     "text": [
      "B16: 'PMT NO'\n",
      "C16: 'PAYMENT DATE'\n",
      "D16: 'BEGINNING BALANCE'\n",
      "E16: 'SCHEDULED PAYMENT'\n",
      "F16: 'EXTRA PAYMENT'\n",
      "G16: 'TOTAL PAYMENT'\n",
      "H16: 'PRINCIPAL'\n",
      "I16: 'INTEREST'\n",
      "J16: 'ENDING BALANCE'\n",
      "K16: 'CUMULATIVE INTEREST'\n",
      "\n",
      "B17: '1'\n",
      "C17: '2020-09-01 00:00:00'\n",
      "D17: '200000'\n",
      "E17: '1073.6432460242781'\n",
      "F17: '100'\n",
      "G17: '1173.6432460242781'\n",
      "H17: '340.30991269094477'\n",
      "I17: '833.3333333333334'\n",
      "J17: '199659.69008730905'\n",
      "K17: '833.3333333333334'\n",
      "\n"
     ]
    },
    {
     "name": "stderr",
     "output_type": "stream",
     "text": [
      "/Users/bgoncalves/anaconda3/lib/python3.7/site-packages/openpyxl/worksheet/header_footer.py:48: UserWarning: Cannot parse header or footer so it will be ignored\n",
      "  warn(\"\"\"Cannot parse header or footer so it will be ignored\"\"\")\n"
     ]
    }
   ],
   "source": [
    "book = openpyxl.load_workbook('data/excel-mortgage-calculator.xlsx', data_only=True)\n",
    "sheet = book.active\n",
    "\n",
    "for row in sheet[\"B16:K17\"]:\n",
    "    for cell in row:\n",
    "        print(\"%s%s: '%s'\" % (cell.column_letter, cell.row, cell.value))\n",
    "    print(\"\")"
   ]
  },
  {
   "cell_type": "markdown",
   "metadata": {},
   "source": [
    "<div style=\"width: 100%; overflow: hidden;\">\n",
    "     <img src=\"data/D4Sci_logo_full.png\" alt=\"Data For Science, Inc\" align=\"center\" border=\"0\" width=300px> \n",
    "</div>"
   ]
  }
 ],
 "metadata": {
  "kernelspec": {
   "display_name": "Python 3",
   "language": "python",
   "name": "python3"
  },
  "language_info": {
   "codemirror_mode": {
    "name": "ipython",
    "version": 3
   },
   "file_extension": ".py",
   "mimetype": "text/x-python",
   "name": "python",
   "nbconvert_exporter": "python",
   "pygments_lexer": "ipython3",
   "version": "3.7.3"
  },
  "toc": {
   "base_numbering": 1,
   "nav_menu": {},
   "number_sections": true,
   "sideBar": true,
   "skip_h1_title": true,
   "title_cell": "Table of Contents",
   "title_sidebar": "Contents",
   "toc_cell": false,
   "toc_position": {},
   "toc_section_display": true,
   "toc_window_display": false
  },
  "varInspector": {
   "cols": {
    "lenName": 16,
    "lenType": 16,
    "lenVar": 40
   },
   "kernels_config": {
    "python": {
     "delete_cmd_postfix": "",
     "delete_cmd_prefix": "del ",
     "library": "var_list.py",
     "varRefreshCmd": "print(var_dic_list())"
    },
    "r": {
     "delete_cmd_postfix": ") ",
     "delete_cmd_prefix": "rm(",
     "library": "var_list.r",
     "varRefreshCmd": "cat(var_dic_list()) "
    }
   },
   "types_to_exclude": [
    "module",
    "function",
    "builtin_function_or_method",
    "instance",
    "_Feature"
   ],
   "window_display": false
  }
 },
 "nbformat": 4,
 "nbformat_minor": 2
}
